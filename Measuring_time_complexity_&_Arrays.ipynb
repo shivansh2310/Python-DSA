{
  "nbformat": 4,
  "nbformat_minor": 0,
  "metadata": {
    "colab": {
      "provenance": [],
      "authorship_tag": "ABX9TyOtT8/SOZsRP401t3OzWRBQ",
      "include_colab_link": true
    },
    "kernelspec": {
      "name": "python3",
      "display_name": "Python 3"
    },
    "language_info": {
      "name": "python"
    }
  },
  "cells": [
    {
      "cell_type": "markdown",
      "metadata": {
        "id": "view-in-github",
        "colab_type": "text"
      },
      "source": [
        "<a href=\"https://colab.research.google.com/github/shivansh2310/Python-DSA/blob/main/Measuring_time_complexity_%26_Arrays.ipynb\" target=\"_parent\"><img src=\"https://colab.research.google.com/assets/colab-badge.svg\" alt=\"Open In Colab\"/></a>"
      ]
    },
    {
      "cell_type": "markdown",
      "source": [
        "## Big O  notaation\n",
        "> time = a*n + b  // When time grows Linearly\n",
        "  > 1. keep fastest growing term = time = a*n\n",
        "  > 2. Drop constants time = O(n)\n",
        "\n",
        "> time = a // when time is constsnt\n",
        "  > 1. keep fastest growing term = time = a\n",
        "  > 2. Drop constants time = O(1) \n",
        "\n",
        "> time = a* n^2 + b  // when to find duplicate\n",
        "  > 1. keep fastest growing term = time = n^2\n",
        "  > 2. Drop constants time = O(n^2) \n",
        "\n",
        "> time =  a* n^2 + b*n + c // when multiple itreation\n",
        "  > 1. keep fastest growing term = time = n^2\n",
        "  > 2. Drop constants time = O(n^2) \n",
        "\n"
      ],
      "metadata": {
        "id": "WCQYV5Y53ZYa"
      }
    },
    {
      "cell_type": "markdown",
      "source": [
        "#Arrays\n"
      ],
      "metadata": {
        "id": "OfnVDATICHdh"
      }
    },
    {
      "cell_type": "markdown",
      "source": [
        "#Question 1\n",
        "\n",
        "  Let us say your expense for every month are listed below,\n",
        "\n",
        "  >January - 2200\n",
        "  >February - 2350\n",
        "  >March - 2600\n",
        "  >April - 2130\n",
        "  >May - 2190\n",
        "\n",
        "  Create a list to store these monthly expenses and using that find out,\n",
        "\n",
        "  1. In Feb, how many dollars you spent extra compare to January?\n",
        "  2. Find out your total expense in first quarter (first three months) of the year.\n",
        "  3. Find out if you spent exactly 2000 dollars in any month\n",
        "  4. June month just finished and your expense is 1980 dollar. Add this item to our monthly expense list\n",
        "  5. You returned an item that you bought in a month of April and\n",
        "  got a refund of 200$. Make a correction to your monthly expense list\n",
        "  based on this"
      ],
      "metadata": {
        "id": "amYl5AqLCKI2"
      }
    },
    {
      "cell_type": "code",
      "execution_count": 1,
      "metadata": {
        "id": "9MrcBFy9gKrm"
      },
      "outputs": [],
      "source": [
        "exp = [2200,2350,2600,2130,2190]"
      ]
    },
    {
      "cell_type": "code",
      "source": [
        "print(\"Ans1:Extra dollar spent:\", exp[1]-exp[0])"
      ],
      "metadata": {
        "colab": {
          "base_uri": "https://localhost:8080/"
        },
        "id": "zKer6xnpCeLu",
        "outputId": "02fc6822-cb82-4498-b27f-e6eb4834381f"
      },
      "execution_count": 3,
      "outputs": [
        {
          "output_type": "stream",
          "name": "stdout",
          "text": [
            "Ans1:Extra dollar spent: 150\n"
          ]
        }
      ]
    },
    {
      "cell_type": "code",
      "source": [
        "print(\"Ans2:Total expenses in first quatar:\", exp[0]+exp[1]+exp[2])"
      ],
      "metadata": {
        "colab": {
          "base_uri": "https://localhost:8080/"
        },
        "id": "PZJ-_QBWCpe9",
        "outputId": "db6c6239-281a-4036-aa81-7f9131ba5eae"
      },
      "execution_count": 4,
      "outputs": [
        {
          "output_type": "stream",
          "name": "stdout",
          "text": [
            "Ans2:Total expenses in first quatar: 7150\n"
          ]
        }
      ]
    },
    {
      "cell_type": "code",
      "source": [
        "print(\"Ans3:Did I spent 2000$ in any month? \", 2000 in exp)"
      ],
      "metadata": {
        "colab": {
          "base_uri": "https://localhost:8080/"
        },
        "id": "f0FIhWDlC6EU",
        "outputId": "900dadb2-f222-4a92-cdb8-efe5c851f2e5"
      },
      "execution_count": 5,
      "outputs": [
        {
          "output_type": "stream",
          "name": "stdout",
          "text": [
            "Ans3:Did I spent 2000$ in any month?  False\n"
          ]
        }
      ]
    },
    {
      "cell_type": "code",
      "source": [
        "exp.append(1980)\n",
        "print(\"ANs4: Expenses at the end of June:\",exp)"
      ],
      "metadata": {
        "colab": {
          "base_uri": "https://localhost:8080/"
        },
        "id": "aK5s5AQNDCSl",
        "outputId": "d2caac3c-9636-4c79-c5b5-609c2ac00739"
      },
      "execution_count": 6,
      "outputs": [
        {
          "output_type": "stream",
          "name": "stdout",
          "text": [
            "ANs4: Expenses at the end of June: [2200, 2350, 2600, 2130, 2190, 1980]\n"
          ]
        }
      ]
    },
    {
      "cell_type": "code",
      "source": [
        "exp[3] = exp[3] - 200\n",
        "print(\"Ans5: New expenses on April: \", exp)"
      ],
      "metadata": {
        "colab": {
          "base_uri": "https://localhost:8080/"
        },
        "id": "QZA8XOsPDIoN",
        "outputId": "95dafd28-d3ba-4934-efe6-4a08e5185d77"
      },
      "execution_count": 7,
      "outputs": [
        {
          "output_type": "stream",
          "name": "stdout",
          "text": [
            "Ans5: New expenses on April:  [2200, 2350, 2600, 1930, 2190, 1980]\n"
          ]
        }
      ]
    },
    {
      "cell_type": "code",
      "source": [],
      "metadata": {
        "id": "4sPHfZHyDV3m"
      },
      "execution_count": null,
      "outputs": []
    },
    {
      "cell_type": "markdown",
      "source": [
        "#Question 2 \n",
        "\n",
        "You have a list of your favourite marvel super heros.\n",
        "\n",
        "heros=['spider man','thor','hulk','iron man','captain america']\n",
        "\n",
        "1. Length of the list\n",
        "2. Add 'black panther' at the end of this list\n",
        "3. You realize that you need to add 'black panther' after 'hulk',\n",
        "   so remove it from the list first and then add it after 'hulk'\n",
        "4. Now you don't like thor and hulk because they get angry easily :)\n",
        "   So you want to remove thor and hulk from list and replace them with doctor strange (because he is cool).\n",
        "   Do that with one line of code.\n",
        "5. Sort the heros list in alphabetical order (Hint. Use dir() functions to list down all functions available in list)"
      ],
      "metadata": {
        "id": "BKmXREvvDmFd"
      }
    },
    {
      "cell_type": "code",
      "source": [
        "heros=['spider man','thor','hulk','iron man','captain america']"
      ],
      "metadata": {
        "id": "qfY2Zh9vEQ6U"
      },
      "execution_count": 8,
      "outputs": []
    },
    {
      "cell_type": "code",
      "source": [
        "print(len(heros))"
      ],
      "metadata": {
        "colab": {
          "base_uri": "https://localhost:8080/"
        },
        "id": "dPW-SEqEETz2",
        "outputId": "398704f8-9c6c-4ecf-fb49-b6a4f57a9df3"
      },
      "execution_count": 10,
      "outputs": [
        {
          "output_type": "stream",
          "name": "stdout",
          "text": [
            "5\n"
          ]
        }
      ]
    },
    {
      "cell_type": "code",
      "source": [
        "heros.append('Black Panther')\n",
        "print(heros)"
      ],
      "metadata": {
        "colab": {
          "base_uri": "https://localhost:8080/"
        },
        "id": "_24fmS9ZEXYV",
        "outputId": "588fc162-bbf4-41be-822d-16382cc7adcc"
      },
      "execution_count": 11,
      "outputs": [
        {
          "output_type": "stream",
          "name": "stdout",
          "text": [
            "['spider man', 'thor', 'hulk', 'iron man', 'captain america', 'Black Panther']\n"
          ]
        }
      ]
    },
    {
      "cell_type": "code",
      "source": [
        "heros.remove('Black Panther')\n",
        "heros.insert(3, 'Black Panther')\n",
        "print(heros)"
      ],
      "metadata": {
        "colab": {
          "base_uri": "https://localhost:8080/"
        },
        "id": "SqNSWvXqEjxU",
        "outputId": "d7e2440d-95a7-4e49-d102-8224694b5306"
      },
      "execution_count": 13,
      "outputs": [
        {
          "output_type": "stream",
          "name": "stdout",
          "text": [
            "['spider man', 'thor', 'hulk', 'Black Panther', 'iron man', 'captain america']\n"
          ]
        }
      ]
    },
    {
      "cell_type": "code",
      "source": [
        "heros[1:3]=['doctor strange']\n",
        "print(heros)"
      ],
      "metadata": {
        "colab": {
          "base_uri": "https://localhost:8080/"
        },
        "id": "OsACiLp1Es_N",
        "outputId": "d84028be-4529-4c9e-a1e7-80f013f6754d"
      },
      "execution_count": 14,
      "outputs": [
        {
          "output_type": "stream",
          "name": "stdout",
          "text": [
            "['spider man', 'doctor strange', 'Black Panther', 'iron man', 'captain america']\n"
          ]
        }
      ]
    },
    {
      "cell_type": "code",
      "source": [
        "heros.sort()\n",
        "print(heros)"
      ],
      "metadata": {
        "colab": {
          "base_uri": "https://localhost:8080/"
        },
        "id": "7EgdPW9pE0_U",
        "outputId": "59482abe-481c-463b-e2b8-898aba6de6cf"
      },
      "execution_count": 15,
      "outputs": [
        {
          "output_type": "stream",
          "name": "stdout",
          "text": [
            "['Black Panther', 'captain america', 'doctor strange', 'iron man', 'spider man']\n"
          ]
        }
      ]
    },
    {
      "cell_type": "markdown",
      "source": [
        "#Question 3\n",
        "\n",
        "Create a list of all odd numbers between 1 and a max number. Max number is something you need to take from a user using input() function"
      ],
      "metadata": {
        "id": "OO1VVCNVKH7x"
      }
    },
    {
      "cell_type": "code",
      "source": [
        "max = int(input(\"Enter max number: \"))\n",
        "\n",
        "odd_numbers = []\n",
        "\n",
        "for i in range(1, max):\n",
        "    if i % 2 == 1:\n",
        "        odd_numbers.append(i)\n",
        "\n",
        "print(\"Odd numbers: \", odd_numbers)\n"
      ],
      "metadata": {
        "colab": {
          "base_uri": "https://localhost:8080/"
        },
        "id": "yBXI_Cs_E252",
        "outputId": "b9939821-4b88-4594-db6a-d4da7a85c3f3"
      },
      "execution_count": 16,
      "outputs": [
        {
          "output_type": "stream",
          "name": "stdout",
          "text": [
            "Enter max number: 5\n",
            "Odd numbers:  [1, 3]\n"
          ]
        }
      ]
    },
    {
      "cell_type": "code",
      "source": [],
      "metadata": {
        "id": "QSI99uuoKNeG"
      },
      "execution_count": null,
      "outputs": []
    }
  ]
}