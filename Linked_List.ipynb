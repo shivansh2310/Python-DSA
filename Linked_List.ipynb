{
  "nbformat": 4,
  "nbformat_minor": 0,
  "metadata": {
    "colab": {
      "provenance": [],
      "authorship_tag": "ABX9TyM9IvX2kInVd/cPa1RgQeCJ",
      "include_colab_link": true
    },
    "kernelspec": {
      "name": "python3",
      "display_name": "Python 3"
    },
    "language_info": {
      "name": "python"
    }
  },
  "cells": [
    {
      "cell_type": "markdown",
      "metadata": {
        "id": "view-in-github",
        "colab_type": "text"
      },
      "source": [
        "<a href=\"https://colab.research.google.com/github/shivansh2310/Python-DSA/blob/main/Linked_List.ipynb\" target=\"_parent\"><img src=\"https://colab.research.google.com/assets/colab-badge.svg\" alt=\"Open In Colab\"/></a>"
      ]
    },
    {
      "cell_type": "code",
      "execution_count": 18,
      "metadata": {
        "colab": {
          "base_uri": "https://localhost:8080/"
        },
        "id": "w6qm8Gm863Oj",
        "outputId": "96cd93a7-9078-4b2a-ef9e-1953936122bd"
      },
      "outputs": [
        {
          "output_type": "stream",
          "name": "stdout",
          "text": [
            "banana --> blueberry --> grapes --> orange\n",
            "45 --> 7 --> 12 --> 567 --> 99 --> 67\n"
          ]
        }
      ],
      "source": [
        "class Node:\n",
        "    def __init__(self, data=None, next=None):\n",
        "        self.data = data\n",
        "        self.next = next\n",
        "\n",
        "class LinkedList:\n",
        "    def __init__(self):\n",
        "        self.head = None\n",
        "\n",
        "    def print(self):\n",
        "        if self.head is None:\n",
        "            print(\"Linked list is empty\")\n",
        "            return\n",
        "        itr = self.head\n",
        "        llstr = ''\n",
        "        while itr:\n",
        "            llstr += str(itr.data)+' --> ' if itr.next else str(itr.data)\n",
        "            itr = itr.next\n",
        "        print(llstr)\n",
        "\n",
        "    def get_length(self):\n",
        "        count = 0\n",
        "        itr = self.head\n",
        "        while itr:\n",
        "            count+=1\n",
        "            itr = itr.next\n",
        "\n",
        "        return count\n",
        "\n",
        "    def insert_at_begining(self, data):\n",
        "        node = Node(data, self.head)\n",
        "        self.head = node\n",
        "\n",
        "    def insert_at_end(self, data):\n",
        "        if self.head is None:\n",
        "            self.head = Node(data, None)\n",
        "            return\n",
        "\n",
        "        itr = self.head\n",
        "\n",
        "        while itr.next:\n",
        "            itr = itr.next\n",
        "\n",
        "        itr.next = Node(data, None)\n",
        "\n",
        "    def insert_at(self, index, data):\n",
        "        if index<0 or index>self.get_length():\n",
        "            raise Exception(\"Invalid Index\")\n",
        "\n",
        "        if index==0:\n",
        "            self.insert_at_begining(data)\n",
        "            return\n",
        "\n",
        "        count = 0\n",
        "        itr = self.head\n",
        "        while itr:\n",
        "            if count == index - 1:\n",
        "                node = Node(data, itr.next)\n",
        "                itr.next = node\n",
        "                break\n",
        "\n",
        "            itr = itr.next\n",
        "            count += 1\n",
        "\n",
        "    def remove_at(self, index):\n",
        "        if index<0 or index>=self.get_length():\n",
        "            raise Exception(\"Invalid Index\")\n",
        "\n",
        "        if index==0:\n",
        "            self.head = self.head.next\n",
        "            return\n",
        "\n",
        "        count = 0\n",
        "        itr = self.head\n",
        "        while itr:\n",
        "            if count == index - 1:\n",
        "                itr.next = itr.next.next\n",
        "                break\n",
        "\n",
        "            itr = itr.next\n",
        "            count+=1\n",
        "\n",
        "    def insert_values(self, data_list):\n",
        "        self.head = None\n",
        "        for data in data_list:\n",
        "            self.insert_at_end(data)\n",
        "\n",
        "\n",
        "if __name__ == '__main__':\n",
        "    ll = LinkedList()\n",
        "    ll.insert_values([\"banana\",\"mango\",\"grapes\",\"orange\"])\n",
        "    ll.insert_at(1,\"blueberry\")\n",
        "    ll.remove_at(2)\n",
        "    ll.print()\n",
        "\n",
        "    ll.insert_values([45,7,12,567,99])\n",
        "    ll.insert_at_end(67)\n",
        "    ll.print()\n"
      ]
    },
    {
      "cell_type": "code",
      "source": [],
      "metadata": {
        "id": "TBoLH7GhE87B"
      },
      "execution_count": null,
      "outputs": []
    }
  ]
}